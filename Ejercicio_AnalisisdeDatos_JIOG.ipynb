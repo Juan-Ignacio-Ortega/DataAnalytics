{
  "nbformat": 4,
  "nbformat_minor": 0,
  "metadata": {
    "colab": {
      "name": "Ejercicio_AnalisisdeDatos_JIOG.ipynb",
      "provenance": []
    },
    "kernelspec": {
      "name": "python3",
      "display_name": "Python 3"
    },
    "language_info": {
      "name": "python"
    }
  },
  "cells": [
    {
      "cell_type": "markdown",
      "source": [
        "## Portada"
      ],
      "metadata": {
        "id": "MwH5vUW1MwzV"
      }
    },
    {
      "cell_type": "markdown",
      "source": [
        "Universidad Autónoma de Querétaro\n",
        "\n",
        "Maestría en Ciencias en Inteligencia Artificial\n",
        "\n",
        "Materia - Tópicos Selectos IV | Machine Learning\n",
        "\n",
        "Profesor - Dr. Marco Antonio Aceves Fernández\n",
        "\n",
        "Alumno - Juan Ignacio Ortega Gómez\n",
        "\n",
        "Expediente - 309236\n",
        "\n",
        "Actividad - Analisis de datos\n",
        "\n",
        "Fecha - 25/02/2022"
      ],
      "metadata": {
        "id": "Z9IrBEEuMzr4"
      }
    },
    {
      "cell_type": "markdown",
      "source": [
        "## Introducción"
      ],
      "metadata": {
        "id": "ozyvashBCF02"
      }
    },
    {
      "cell_type": "markdown",
      "source": [
        "En el mundo, cada vez nos vemos más abrumados por los datos. Con datos en cada uno de los dispositivos que manejamos diariamente, datos dentro de la web y la nube. Conforme esta cantidad aumenta, las oportundiades para obtener información útil de los datos también. No solo es acerca de observar los datos, es acerca de lo que estos nos pueden decri sobre quienes o las cosas que los generan.\n",
        "\n",
        "Hoy en día podemos encontrat información sobre las técnicas de análisis de datos, conocimiento que nos permitirá no solo poder obtener oportunidades de aprovechamiento con los datos, si no también de conocer las mejores maneras de generar la información y utilizarla.\n",
        "\n",
        "Por ende, se reocmienda tener un acercamiento hacia la técnicas de análisis de datos, lo cual se comienza con este escrito. [1]\n",
        "\n",
        "En este reporte, se pueden enocntrar algoritmos generalizados para utilizar con cualquier base de datos y poder extraer así sus primeras características para el análisis. Además, de encontrar un par de técnicas correctivas que ayudarán a mejorar la base de datos que se ingresa."
      ],
      "metadata": {
        "id": "220W6caxCIsZ"
      }
    },
    {
      "cell_type": "markdown",
      "source": [
        "## Metodología"
      ],
      "metadata": {
        "id": "5eXjlfgaRepM"
      }
    },
    {
      "cell_type": "markdown",
      "source": [
        "DEFINICIONES ESTADÍSTICAS\n",
        "\n",
        "* La media muestral (Promedio)\n",
        "\n",
        "Indica el centro de los datos.\n",
        "\n",
        "Promedio = (1 / n) * sumatoria de Xi [2]\n",
        "\n",
        "* Desviaciones ((X1 - Xpromedio), ..., (Xn - Xpromedio))\n",
        "Distancias de cada valor de la muestra a la media de la muestra.\n",
        "Al ser una resta, genera valores tanto positivos como negativos, por eso se eleva al cuadrado al utilizarse en la varianza y en la desviación estándar, para hacer todos los resultados de la resta positivos.\n",
        "\n",
        "* Varianza muestral\n",
        "Constituye el promedio de las desviaciones al cuadrado, excepto que lo dividimos entre n-1 en lugar de n.\n",
        "\n",
        "s^2 = (1 / (n - 1)) * sumatoria de ((Xi - Xpromedio)^2) [2]\n",
        "\n",
        "* Desviación estandar\n",
        "Mide el grado de dispersión.\n",
        "\n",
        "s = (s^2)^(1 / 2) o raíz cuadrada de (s^2) [2]\n",
        "\n",
        "* Cuartiles\n",
        "\n",
        "La mediana divide la muestra a la mitad, los cuartiles lo dividen, tanto como sea posible, en cuartos.\n",
        "\n",
        "Primer cuartil = 0.25 (n + 1) [2]\n",
        "\n",
        "Segundo cuartil = 0.5 (n + 1) [2] --> Idéntico a la mediana\n",
        "\n",
        "Tercer cuartil = 0.75 (n + 1) [2]\n",
        "\n",
        "El resultado te dice el número del valor que representa el X cuartil, de los datos ordenados de forma ascendente.\n",
        "\n",
        "Solo si el resultado es un entero, si no, se toma el promedio de los valores de la muestra de cualquier lado de este valor, tomando la muestrta de forma ordenada ascendente.\n",
        "\n",
        "*Covarianza\n",
        "Es una medida de la intensidad de la relación entre dos variables aleatorias [2].\n",
        "\n",
        "cov(X, Y) = promedio((Xi - priomedio de X) * (Yi - promedio de Y)) [2]"
      ],
      "metadata": {
        "id": "YtSDXTxQRgvD"
      }
    },
    {
      "cell_type": "markdown",
      "source": [
        "CONCEPTOS EN EL MANEJO DE DATOS\n",
        "\n",
        "* Instancias\n",
        "Cada instancia se carcateriza por los valores de los atributos que miden diferentes aspectos por cada medición. Si lo vemos en el sentido de una base de datos, las instancias serían los registros de esta, es decir, las filas.\n",
        "\n",
        "* Atributos\n",
        "Si lo vemos como una base de datos, los atributos serían el equivalente a las columnas. El valor de un atributo para una particular instancia es la medición de la cantidad a la cual el atributo se refiere.\n",
        "\n",
        "* Clasificación de atributos\n",
        "\n",
        "Atributo categórico:\n",
        "\n",
        "Categóricos ( cualitativos): representan categorías más que números. Se dividen a su vez en:\n",
        "\n",
        "Nominales: no tienen orden significativo.\n",
        "\n",
        "Ordinales: tienen orden definido.\n",
        "\n",
        "Atributo numérico:\n",
        "\n",
        "\n",
        "Numéricos(cuantitativos): son atributos que son núemros, se dividen a su evz en:\n",
        "\n",
        "Intervalo: no existe un <cero>.\n",
        "\n",
        "Tasa: el cero existe.\n",
        "\n",
        "Atributo discreto: Tiene un número finito o contavle de valores.\n",
        "\n",
        "Atributo continuo: Tiene un número infinito de vaores posibles.\n",
        "\n",
        "* Tipos de distribución según histogramas\n",
        "\n",
        "Histograma Uniforme\n",
        "\n",
        "Histograma Normal (Unimodal)\n",
        "\n",
        "Histograma Unimodal sesgado izquierda\n",
        "\n",
        "Histograma Unimodal sesgado derecha\n",
        "\n",
        "Histograma multimodal\n",
        "\n",
        "Histograma exponencial\n",
        "\n",
        "* Problema de calidad en los datos\n",
        "ualquier dato inusual que se encuentre en la base de datos.\n",
        "\n",
        "Los problemas más comúnes de lso datos son:\n",
        "\n",
        "Valores faltantes.\n",
        "\n",
        "Problemas de cardinalidad irregular. Se da cuando una carcterística tiene un dato que no es lo que se esperaría de una carcaterística.\n",
        "\n",
        "Valores atípicos outliers. Valores que se localizan muy alejados de la tendencia central de una carcaterística. Se puede categorizar en válidos y no válidos [1].\n",
        "\n",
        "* Balance entre clases\n",
        "Se busca tener la misma cantidad de ejemplos por cada clase.\n",
        "\n",
        "* Normalizar los datos\n",
        "Algunos algoritmos de inteligencia artificial requieren que todos los datos se centren en un rango específico de valores, normalmente de -1 a 1 o de 0 a 1. Incluso si no se requiere que los datos se encuentren dentro de los valores, es buena idea generalmente asegurarse de que los avlores se encuentran dentro de un rango específico.\n",
        "\n",
        "Normalización de valores ordinales \n",
        "Para normalizar un set ordinal, se tiene que preservar el orden.\n",
        "\n",
        "Normalización de valores cuantitativos\n",
        "Lo primero que se tiene que hacer es observar el rango en el cual se encuentran dichos valores y el intervalo al que se quiere normalizar. No todos los valores requieren ser normalizados.\n",
        "\n",
        "Es necesario realizar los cálculos de las siguientes variables para encontrar el valor normalizado:\n",
        "\n",
        "Máximo de los datos = el valor más alto de la observación sin normalizar. [1]\n",
        "\n",
        "Mínimo de los datos = el menor alto de la observación sin normalizar. [1]\n",
        "\n",
        "Máximo normalizado = el valor más alto limítrofe al que el máximo de los datos será normalizado. [1]\n",
        "\n",
        "Mínimo normalizado = el valor más bajo limítrofe al que el mínimo de los datos será normalizado. [1]\n",
        "\n",
        "Rango de datos = Máximo de los datos - Mínimo de los datos [1]\n",
        "\n",
        "Rango normalizado = Máximo normalizado - Mínimo normalizado [1]\n",
        "\n",
        "D = Valor a normalizar - Mínimo de los datos [1]\n",
        "\n",
        "DPct = D / Rango de datos [1]\n",
        "\n",
        "dNorm = Rango normalizado * DPct [1]\n",
        "\n",
        "Normalizado = Mínimo normalizado + dNorm [1]\n",
        "\n",
        "De esta forma se obtiene el valor normalizado.\n",
        "\n",
        "* Imputación de los datos\n",
        "En ciencia de datos, usualmente, se tienen dos enfoques para lidiar con estos valores faltantes: omitir las instancias con valores faltantes o realizar técnicas de imputación y estimar los datos faltantes utilizando los valores existentes.\n",
        "\n",
        "La imputación es una técnica para reemplazar valores perdidos con valores que se encuentran. El objetivo es la de tener una base de datos con la menor cantidad de instancias faltantes que contengan la misma distribución que lo datos existentes para que puedan ser analizados.\n",
        "\n",
        "Tecnicas deterministicas de imputación\n",
        "Funcionan cuando, de acuerdo a las mimas condiciones de los datos, producen las mismas respuestas. Entre estas técnicas se encuentra la imputación por vecino más cercano.\n",
        "\n",
        "Imputación por vecino más cercano: Se calcula la distancia entre la instancia a imputar, usualmente, por medio de la distancia euclidiana y los datos que tienen valor establecido. Una vez que se calcula el dato más cercano, se utiliza este para imputar la instancia faltante.\n",
        "\n",
        "* Distancia euclidiana\n",
        "La distancia euclidiana está basada en la distancia bidimensional entre dos vectores. Esto es, la distancia entre dos puntos como si se dibujara una línea con una regla de un punto a otro.\n",
        "Específicamente, si se tienen dos punto (x1, y1) y (x2, y2), la distancia euclidiana puede ser calculada mediante la ecuación [1]:\n",
        "\n",
        "d = raíz cuadrada((x2 - x1)^2 + (y2 - y1)^2) [1]\n",
        "\n"
      ],
      "metadata": {
        "id": "2KqlQEiiXANe"
      }
    },
    {
      "cell_type": "markdown",
      "source": [
        "## Importamos la base de datos en google colab."
      ],
      "metadata": {
        "id": "7_dZDSy4wBSb"
      }
    },
    {
      "cell_type": "code",
      "execution_count": 1,
      "metadata": {
        "colab": {
          "base_uri": "https://localhost:8080/"
        },
        "id": "ryXn0TiMf8Pf",
        "outputId": "5f515bb5-e326-4268-ad5f-a10cb4c4f13e"
      },
      "outputs": [
        {
          "output_type": "stream",
          "name": "stdout",
          "text": [
            "Mounted at /content/drive\n"
          ]
        }
      ],
      "source": [
        "import sys\n",
        "from google.colab import drive\n",
        "\n",
        "drive.mount('/content/drive', force_remount = True)\n",
        "sys.path.append('/content/drive/MyDrive/ML_TSIV')"
      ]
    },
    {
      "cell_type": "code",
      "source": [
        "import pandas as pd\n",
        "DB = pd.read_csv('/content/drive/MyDrive/ML_TSIV/car_data_for_price_estimation.csv')"
      ],
      "metadata": {
        "id": "2SSYtFcUuMx7"
      },
      "execution_count": 2,
      "outputs": []
    },
    {
      "cell_type": "markdown",
      "source": [
        "### Mostramos los primeros 5 instancias y los títulos de los atributos."
      ],
      "metadata": {
        "id": "8sGrO-a9xGN3"
      }
    },
    {
      "cell_type": "code",
      "source": [
        "DB.head()"
      ],
      "metadata": {
        "colab": {
          "base_uri": "https://localhost:8080/",
          "height": 215
        },
        "id": "ArG6xcpEuzpz",
        "outputId": "feb155c3-63b7-4a5b-d3b1-31a1daf369dd"
      },
      "execution_count": 4,
      "outputs": [
        {
          "output_type": "execute_result",
          "data": {
            "text/html": [
              "\n",
              "  <div id=\"df-b6c40f68-1329-4e09-8c53-4cfa9290471c\">\n",
              "    <div class=\"colab-df-container\">\n",
              "      <div>\n",
              "<style scoped>\n",
              "    .dataframe tbody tr th:only-of-type {\n",
              "        vertical-align: middle;\n",
              "    }\n",
              "\n",
              "    .dataframe tbody tr th {\n",
              "        vertical-align: top;\n",
              "    }\n",
              "\n",
              "    .dataframe thead th {\n",
              "        text-align: right;\n",
              "    }\n",
              "</style>\n",
              "<table border=\"1\" class=\"dataframe\">\n",
              "  <thead>\n",
              "    <tr style=\"text-align: right;\">\n",
              "      <th></th>\n",
              "      <th>make_id</th>\n",
              "      <th>model_id</th>\n",
              "      <th>submodel_id</th>\n",
              "      <th>price</th>\n",
              "      <th>mileage</th>\n",
              "      <th>country_code</th>\n",
              "      <th>year</th>\n",
              "      <th>currency</th>\n",
              "      <th>updated_at</th>\n",
              "    </tr>\n",
              "  </thead>\n",
              "  <tbody>\n",
              "    <tr>\n",
              "      <th>0</th>\n",
              "      <td>86</td>\n",
              "      <td>912.0</td>\n",
              "      <td>957.0</td>\n",
              "      <td>2150000</td>\n",
              "      <td>30000</td>\n",
              "      <td>PK</td>\n",
              "      <td>2017</td>\n",
              "      <td>PKR</td>\n",
              "      <td>2019-07-25 21:50:04.860913+00</td>\n",
              "    </tr>\n",
              "    <tr>\n",
              "      <th>1</th>\n",
              "      <td>73</td>\n",
              "      <td>774.0</td>\n",
              "      <td>599.0</td>\n",
              "      <td>119000</td>\n",
              "      <td>28800</td>\n",
              "      <td>AE</td>\n",
              "      <td>2013</td>\n",
              "      <td>AED</td>\n",
              "      <td>2019-12-27 22:50:07.718331+00</td>\n",
              "    </tr>\n",
              "    <tr>\n",
              "      <th>2</th>\n",
              "      <td>86</td>\n",
              "      <td>935.0</td>\n",
              "      <td>NaN</td>\n",
              "      <td>2750000</td>\n",
              "      <td>1</td>\n",
              "      <td>PK</td>\n",
              "      <td>2020</td>\n",
              "      <td>PKR</td>\n",
              "      <td>2020-12-02 22:49:39.536877+00</td>\n",
              "    </tr>\n",
              "    <tr>\n",
              "      <th>3</th>\n",
              "      <td>5</td>\n",
              "      <td>41.0</td>\n",
              "      <td>NaN</td>\n",
              "      <td>179000</td>\n",
              "      <td>93000</td>\n",
              "      <td>ZA</td>\n",
              "      <td>2012</td>\n",
              "      <td>ZAR</td>\n",
              "      <td>2020-02-16 22:50:05.555076+00</td>\n",
              "    </tr>\n",
              "    <tr>\n",
              "      <th>4</th>\n",
              "      <td>22</td>\n",
              "      <td>222.0</td>\n",
              "      <td>NaN</td>\n",
              "      <td>108000</td>\n",
              "      <td>48767</td>\n",
              "      <td>AE</td>\n",
              "      <td>2016</td>\n",
              "      <td>AED</td>\n",
              "      <td>2020-10-04 21:50:10.793611+00</td>\n",
              "    </tr>\n",
              "  </tbody>\n",
              "</table>\n",
              "</div>\n",
              "      <button class=\"colab-df-convert\" onclick=\"convertToInteractive('df-b6c40f68-1329-4e09-8c53-4cfa9290471c')\"\n",
              "              title=\"Convert this dataframe to an interactive table.\"\n",
              "              style=\"display:none;\">\n",
              "        \n",
              "  <svg xmlns=\"http://www.w3.org/2000/svg\" height=\"24px\"viewBox=\"0 0 24 24\"\n",
              "       width=\"24px\">\n",
              "    <path d=\"M0 0h24v24H0V0z\" fill=\"none\"/>\n",
              "    <path d=\"M18.56 5.44l.94 2.06.94-2.06 2.06-.94-2.06-.94-.94-2.06-.94 2.06-2.06.94zm-11 1L8.5 8.5l.94-2.06 2.06-.94-2.06-.94L8.5 2.5l-.94 2.06-2.06.94zm10 10l.94 2.06.94-2.06 2.06-.94-2.06-.94-.94-2.06-.94 2.06-2.06.94z\"/><path d=\"M17.41 7.96l-1.37-1.37c-.4-.4-.92-.59-1.43-.59-.52 0-1.04.2-1.43.59L10.3 9.45l-7.72 7.72c-.78.78-.78 2.05 0 2.83L4 21.41c.39.39.9.59 1.41.59.51 0 1.02-.2 1.41-.59l7.78-7.78 2.81-2.81c.8-.78.8-2.07 0-2.86zM5.41 20L4 18.59l7.72-7.72 1.47 1.35L5.41 20z\"/>\n",
              "  </svg>\n",
              "      </button>\n",
              "      \n",
              "  <style>\n",
              "    .colab-df-container {\n",
              "      display:flex;\n",
              "      flex-wrap:wrap;\n",
              "      gap: 12px;\n",
              "    }\n",
              "\n",
              "    .colab-df-convert {\n",
              "      background-color: #E8F0FE;\n",
              "      border: none;\n",
              "      border-radius: 50%;\n",
              "      cursor: pointer;\n",
              "      display: none;\n",
              "      fill: #1967D2;\n",
              "      height: 32px;\n",
              "      padding: 0 0 0 0;\n",
              "      width: 32px;\n",
              "    }\n",
              "\n",
              "    .colab-df-convert:hover {\n",
              "      background-color: #E2EBFA;\n",
              "      box-shadow: 0px 1px 2px rgba(60, 64, 67, 0.3), 0px 1px 3px 1px rgba(60, 64, 67, 0.15);\n",
              "      fill: #174EA6;\n",
              "    }\n",
              "\n",
              "    [theme=dark] .colab-df-convert {\n",
              "      background-color: #3B4455;\n",
              "      fill: #D2E3FC;\n",
              "    }\n",
              "\n",
              "    [theme=dark] .colab-df-convert:hover {\n",
              "      background-color: #434B5C;\n",
              "      box-shadow: 0px 1px 3px 1px rgba(0, 0, 0, 0.15);\n",
              "      filter: drop-shadow(0px 1px 2px rgba(0, 0, 0, 0.3));\n",
              "      fill: #FFFFFF;\n",
              "    }\n",
              "  </style>\n",
              "\n",
              "      <script>\n",
              "        const buttonEl =\n",
              "          document.querySelector('#df-b6c40f68-1329-4e09-8c53-4cfa9290471c button.colab-df-convert');\n",
              "        buttonEl.style.display =\n",
              "          google.colab.kernel.accessAllowed ? 'block' : 'none';\n",
              "\n",
              "        async function convertToInteractive(key) {\n",
              "          const element = document.querySelector('#df-b6c40f68-1329-4e09-8c53-4cfa9290471c');\n",
              "          const dataTable =\n",
              "            await google.colab.kernel.invokeFunction('convertToInteractive',\n",
              "                                                     [key], {});\n",
              "          if (!dataTable) return;\n",
              "\n",
              "          const docLinkHtml = 'Like what you see? Visit the ' +\n",
              "            '<a target=\"_blank\" href=https://colab.research.google.com/notebooks/data_table.ipynb>data table notebook</a>'\n",
              "            + ' to learn more about interactive tables.';\n",
              "          element.innerHTML = '';\n",
              "          dataTable['output_type'] = 'display_data';\n",
              "          await google.colab.output.renderOutput(dataTable, element);\n",
              "          const docLink = document.createElement('div');\n",
              "          docLink.innerHTML = docLinkHtml;\n",
              "          element.appendChild(docLink);\n",
              "        }\n",
              "      </script>\n",
              "    </div>\n",
              "  </div>\n",
              "  "
            ],
            "text/plain": [
              "   make_id  model_id  submodel_id  ...  year  currency                     updated_at\n",
              "0       86     912.0        957.0  ...  2017       PKR  2019-07-25 21:50:04.860913+00\n",
              "1       73     774.0        599.0  ...  2013       AED  2019-12-27 22:50:07.718331+00\n",
              "2       86     935.0          NaN  ...  2020       PKR  2020-12-02 22:49:39.536877+00\n",
              "3        5      41.0          NaN  ...  2012       ZAR  2020-02-16 22:50:05.555076+00\n",
              "4       22     222.0          NaN  ...  2016       AED  2020-10-04 21:50:10.793611+00\n",
              "\n",
              "[5 rows x 9 columns]"
            ]
          },
          "metadata": {},
          "execution_count": 4
        }
      ]
    },
    {
      "cell_type": "markdown",
      "source": [
        "Convertimos la base de datos a un arreglo para manejarla como matriz."
      ],
      "metadata": {
        "id": "V096j_qK5JaU"
      }
    },
    {
      "cell_type": "code",
      "source": [
        "import numpy as np\n",
        "DB = DB.to_numpy()"
      ],
      "metadata": {
        "id": "Fo73aPM84f8e"
      },
      "execution_count": 3,
      "outputs": []
    },
    {
      "cell_type": "markdown",
      "source": [
        "## Obtenemos la cantidad de atributos y de instancias por atributo."
      ],
      "metadata": {
        "id": "-GTLxXuZypPY"
      }
    },
    {
      "cell_type": "code",
      "source": [
        "Atributos = DB[0]\n",
        "NoAtributos = len(Atributos)\n",
        "Instancias = DB.T[0]\n",
        "NoInstancias = len(Instancias)\n",
        "\n",
        "print('La cantidad de atributos es igual a', str(NoAtributos), 'y la cantidad de instancia es igual a', str(NoInstancias) + '.')"
      ],
      "metadata": {
        "colab": {
          "base_uri": "https://localhost:8080/"
        },
        "id": "Cp3weFOov-aT",
        "outputId": "835f1cb0-7a8d-4f93-e58e-8906cf528ce5"
      },
      "execution_count": 4,
      "outputs": [
        {
          "output_type": "stream",
          "name": "stdout",
          "text": [
            "La cantidad de atributos es igual a 9 y la cantidad de instancia es igual a 1048575.\n"
          ]
        }
      ]
    },
    {
      "cell_type": "markdown",
      "source": [
        "## Definimos las estadísticas de cada uno de los atributos."
      ],
      "metadata": {
        "id": "vVbqgLhLzHKt"
      }
    },
    {
      "cell_type": "markdown",
      "source": [
        "### Tipo de atributo."
      ],
      "metadata": {
        "id": "5hX-oq1Sz9fa"
      }
    },
    {
      "cell_type": "code",
      "source": [
        "for idx, element in enumerate(Atributos):\n",
        "  if str(type(Atributos[idx]))[8 : -2] == 'int':\n",
        "    TipoAtributo = 'numérico discreto'\n",
        "  elif str(type(Atributos[idx]))[8 : -2] == 'float':\n",
        "    TipoAtributo = 'numérico continuo'\n",
        "  elif str(type(Atributos[idx]))[8 : -2] == 'str':\n",
        "    TipoAtributo = 'categórico'\n",
        "  else:\n",
        "    TipoAtributo = 'desconocido'\n",
        "  print('Un ejemplo del atributo', str(idx + 1), 'es \"' + str(Atributos[idx]) + '\" y es de tipo:', str(type(Atributos[idx]))[8 : -2] +  ', por lo tanto, es un atributo', TipoAtributo + '.')"
      ],
      "metadata": {
        "colab": {
          "base_uri": "https://localhost:8080/"
        },
        "id": "CQR7Nl4w6clg",
        "outputId": "3864c005-fc87-4df2-b5dc-92fdf319fb74"
      },
      "execution_count": 5,
      "outputs": [
        {
          "output_type": "stream",
          "name": "stdout",
          "text": [
            "Un ejemplo del atributo 1 es \"86\" y es de tipo: int, por lo tanto, es un atributo numérico discreto.\n",
            "Un ejemplo del atributo 2 es \"912.0\" y es de tipo: float, por lo tanto, es un atributo numérico continuo.\n",
            "Un ejemplo del atributo 3 es \"957.0\" y es de tipo: float, por lo tanto, es un atributo numérico continuo.\n",
            "Un ejemplo del atributo 4 es \"2150000\" y es de tipo: int, por lo tanto, es un atributo numérico discreto.\n",
            "Un ejemplo del atributo 5 es \"30000\" y es de tipo: int, por lo tanto, es un atributo numérico discreto.\n",
            "Un ejemplo del atributo 6 es \"PK\" y es de tipo: str, por lo tanto, es un atributo categórico.\n",
            "Un ejemplo del atributo 7 es \"2017\" y es de tipo: int, por lo tanto, es un atributo numérico discreto.\n",
            "Un ejemplo del atributo 8 es \"PKR\" y es de tipo: str, por lo tanto, es un atributo categórico.\n",
            "Un ejemplo del atributo 9 es \"2019-07-25 21:50:04.860913+00\" y es de tipo: str, por lo tanto, es un atributo categórico.\n"
          ]
        }
      ]
    },
    {
      "cell_type": "markdown",
      "source": [
        "### Máximo y mínimo."
      ],
      "metadata": {
        "id": "loNcAjPUzaca"
      }
    },
    {
      "cell_type": "code",
      "source": [
        "MaximoDeAtributos = []\n",
        "MinimoDeAtributos = []\n",
        "for idx, element in enumerate(Atributos):\n",
        "  CaractMax = max(DB.T[idx])\n",
        "  CaractMin = min(DB.T[idx])\n",
        "  MaximoDeAtributos.append(CaractMax)\n",
        "  MinimoDeAtributos.append(CaractMin)\n",
        "  print('Los elementos máximo y mínimo del atributo', str(idx + 1), 'son', str(CaractMax), 'y', str(CaractMin), 'respectivamente.')"
      ],
      "metadata": {
        "colab": {
          "base_uri": "https://localhost:8080/"
        },
        "id": "xk0jy-BdznXQ",
        "outputId": "ce43a26f-2c2f-48c0-89e8-5ad48513fbc5"
      },
      "execution_count": 6,
      "outputs": [
        {
          "output_type": "stream",
          "name": "stdout",
          "text": [
            "Los elementos máximo y mínimo del atributo 1 son 92 y 1 respectivamente.\n",
            "Los elementos máximo y mínimo del atributo 2 son 1103.0 y 1.0 respectivamente.\n",
            "Los elementos máximo y mínimo del atributo 3 son 1099.0 y 6.0 respectivamente.\n",
            "Los elementos máximo y mínimo del atributo 4 son 4000000000000 y 100 respectivamente.\n",
            "Los elementos máximo y mínimo del atributo 5 son 1200012000 y 0 respectivamente.\n",
            "Los elementos máximo y mínimo del atributo 6 son ZA y AE respectivamente.\n",
            "Los elementos máximo y mínimo del atributo 7 son 2556 y 1926 respectivamente.\n",
            "Los elementos máximo y mínimo del atributo 8 son ZAR y AED respectivamente.\n",
            "Los elementos máximo y mínimo del atributo 9 son 2021-05-07 06:09:59.333081+00 y 2019-05-09 21:50:02.633848+00 respectivamente.\n"
          ]
        }
      ]
    },
    {
      "cell_type": "markdown",
      "source": [
        "NOTA: \n",
        "* En los atributos categóricos se define el maximo como la carcaterística que tiene la letra más lejana en el abecedario, es decir, tomando la más cercana a la A y a la más lejana a la Z. Siendo el valor mínimo la letra más cercana en el abecedario. \n",
        "* Mientras que en el caso de fechas toma como mínimo a las fecha más temprana y máximo a la fecha más tardía."
      ],
      "metadata": {
        "id": "vGcBRXq-FIkO"
      }
    },
    {
      "cell_type": "markdown",
      "source": [
        "### Media, varianza y desviación estandar."
      ],
      "metadata": {
        "id": "Z0Aoq_eQzn24"
      }
    },
    {
      "cell_type": "code",
      "source": [
        "medias = []\n",
        "for idx, element in enumerate(Atributos):\n",
        "  sumatoria = 0\n",
        "  sumatoria2 = 0\n",
        "  NoInsta = 0\n",
        "  if str(type(Atributos[idx]))[8 : -2] != 'str':\n",
        "    for idx2, element2 in enumerate(Instancias):\n",
        "      if str(DB.T[idx][idx2]) != 'nan':\n",
        "        sumatoria += DB.T[idx][idx2]\n",
        "        NoInsta += 1\n",
        "    #media = (1 / NoInstancias) * sumatoria\n",
        "    media = (1 / NoInsta) * sumatoria\n",
        "    medias.append(media)\n",
        "    for idx3, element2 in enumerate(Instancias):\n",
        "      if str(DB.T[idx][idx3]) != 'nan':\n",
        "        sumatoria2 += ((DB.T[idx][idx3] - media) ** 2)\n",
        "    #s2 = (1 / NoInstancias - 1) * sumatoria2\n",
        "    s2 = (1 / (NoInsta - 1)) * sumatoria2\n",
        "    s = s2 ** (1 / 2)\n",
        "    print('Los valores de media, varianza y desviación estandar del atributo', str(idx + 1), 'son', str(media) + ',', str(s2), 'y', str(s), 'respectivamente.')"
      ],
      "metadata": {
        "colab": {
          "base_uri": "https://localhost:8080/"
        },
        "id": "uGoc0UMYzv33",
        "outputId": "bafbe10f-0428-41df-d706-c1b4b6a79d70"
      },
      "execution_count": 7,
      "outputs": [
        {
          "output_type": "stream",
          "name": "stdout",
          "text": [
            "Los valores de media, varianza y desviación estandar del atributo 1 son 59.29174260305653, 724.629939191225 y 26.918951301847272 respectivamente.\n",
            "Los valores de media, varianza y desviación estandar del atributo 2 son 643.6038659943823, 95990.09654277256 y 309.82268564902176 respectivamente.\n",
            "Los valores de media, varianza y desviación estandar del atributo 3 son 719.5627100870934, 83028.08133053653 y 288.1459375568854 respectivamente.\n",
            "Los valores de media, varianza y desviación estandar del atributo 4 son 4557117.182156737, 1.5273344327328252e+19 y 3908112629.816118 respectivamente.\n",
            "Los valores de media, varianza y desviación estandar del atributo 5 son 129293.26172758268, 11118300352257.6 y 3334411.5451242067 respectivamente.\n",
            "Los valores de media, varianza y desviación estandar del atributo 7 son 2011.226562716067, 57.680613812637766 y 7.594775428716623 respectivamente.\n"
          ]
        }
      ]
    },
    {
      "cell_type": "markdown",
      "source": [
        "NOTA:\n",
        "\n",
        "* En esta ocación solo se toman los valores de media y distribución estándar de los atributos numéricos y se ignoran los valores faltantes.\n",
        "* Es de verdadera relevancia transformar los atributos categóricos a números?, es decir, en el aprendizaje máquina realmente aporta en algo agregar ese tipo de características en el proceso de aprendizaje?"
      ],
      "metadata": {
        "id": "jfqjtpaFMGUP"
      }
    },
    {
      "cell_type": "markdown",
      "source": [
        "### Cuartiles"
      ],
      "metadata": {
        "id": "5vB4Oa8S0nGC"
      }
    },
    {
      "cell_type": "code",
      "source": [
        "for idx, element in enumerate(Atributos):\n",
        "  #sumatoria = 0\n",
        "  #NoInsta = 0\n",
        "  if str(type(Atributos[idx]))[8 : -2] != 'str':\n",
        "    atrib = DB.T[idx]\n",
        "    atrib.sort()\n",
        "\n",
        "    NoCuartil1 = 0.25 * (NoInstancias + 1)\n",
        "    if str(type(NoCuartil1))[8 : -2] != 'int':\n",
        "      pos1 = round(NoCuartil1)\n",
        "      if pos1 < NoCuartil1:\n",
        "        pos2 = pos1 + 1\n",
        "      else:\n",
        "        pos2 = pos1 - 1\n",
        "      NoCuartil1 = round((pos1 + pos2) / 2)\n",
        "    Cuartil1 = atrib[NoCuartil1 + 1]\n",
        "    incremento = 1\n",
        "    while True:\n",
        "      if str(Cuartil1) == 'nan':\n",
        "          Cuartil1 = atrib[NoCuartil1]\n",
        "          NoCuartil1 -= 1\n",
        "      else:\n",
        "        break\n",
        "\n",
        "    NoCuartil2 = 0.5 * (NoInstancias + 1)\n",
        "    if str(type(NoCuartil2))[8 : -2] != 'int':\n",
        "      pos1 = round(NoCuartil2)\n",
        "      if pos1 < NoCuartil2:\n",
        "        pos2 = pos1 + 1\n",
        "      else:\n",
        "        pos2 = pos1 - 1\n",
        "      NoCuartil2 = round((pos1 + pos2) / 2)\n",
        "    Cuartil2 = atrib[NoCuartil2 + 1]\n",
        "    while True:\n",
        "      if str(Cuartil2) == 'nan':\n",
        "          Cuartil2 = atrib[NoCuartil2]\n",
        "          NoCuartil2 -= 1\n",
        "      else:\n",
        "        break\n",
        "\n",
        "    NoCuartil3 = 0.7 * (NoInstancias + 1)\n",
        "    if str(type(NoCuartil3))[8 : -2] != 'int':\n",
        "      pos1 = round(NoCuartil3)\n",
        "      if pos1 < NoCuartil3:\n",
        "        pos2 = pos1 + 1\n",
        "      else:\n",
        "        pos2 = pos1 - 1\n",
        "      NoCuartil3 = round((pos1 + pos2) / 2)\n",
        "    Cuartil3 = atrib[NoCuartil3 + 1]\n",
        "    while True:\n",
        "      if str(Cuartil3) == 'nan':\n",
        "          Cuartil3 = atrib[NoCuartil3]\n",
        "          NoCuartil3 -= 1\n",
        "      else:\n",
        "        break\n",
        "\n",
        "    print('Los valores del primer, segundo y tercer cuartil del atributo', str(idx + 1), 'son', str(Cuartil1) + ',', str(Cuartil2), 'y', str(Cuartil3), 'respectivamente.')"
      ],
      "metadata": {
        "colab": {
          "base_uri": "https://localhost:8080/"
        },
        "id": "9K30Pzdf0oAq",
        "outputId": "7f11e235-e7d5-472d-d3e2-d74bcf37657a"
      },
      "execution_count": 16,
      "outputs": [
        {
          "output_type": "stream",
          "name": "stdout",
          "text": [
            "Los valores del primer, segundo y tercer cuartil del atributo 1 son 35, 66 y 83 respectivamente.\n",
            "Los valores del primer, segundo y tercer cuartil del atributo 2 son 359.0, 697.0 y 912.0 respectivamente.\n",
            "Los valores del primer, segundo y tercer cuartil del atributo 3 son 1037.0, 1092.0 y 956.0 respectivamente.\n",
            "Los valores del primer, segundo y tercer cuartil del atributo 4 son 65000, 180000 y 470000 respectivamente.\n",
            "Los valores del primer, segundo y tercer cuartil del atributo 5 son 35000, 85000 y 123456 respectivamente.\n",
            "Los valores del primer, segundo y tercer cuartil del atributo 7 son 2007, 2013 y 2016 respectivamente.\n"
          ]
        }
      ]
    },
    {
      "cell_type": "markdown",
      "source": [
        "NOTA:\n",
        "\n",
        "* En esta ocación solo se toman los valores de los atributos numéricos para el cálculo de cuartiles."
      ],
      "metadata": {
        "id": "dDvQ8wfNbepF"
      }
    },
    {
      "cell_type": "markdown",
      "source": [
        "### Tipo de distribución"
      ],
      "metadata": {
        "id": "VXdaejYQzxN9"
      }
    },
    {
      "cell_type": "markdown",
      "source": [
        "Para definir el tipo, es preferible obtener la gráfica del atributo que permita determinar de manera visual y manual si el atributo presenta una distribución Uniforme, Normal, Unimodal sesgada a la izquierda, Unimodal sesgada a la derecha, multimodal o exponencial."
      ],
      "metadata": {
        "id": "9zfQsNRPntsW"
      }
    },
    {
      "cell_type": "code",
      "source": [
        "import matplotlib.pyplot as plt\n",
        "\n",
        "for idx, element in enumerate(Atributos):\n",
        "  if str(type(Atributos[idx]))[8 : -2] != 'str':\n",
        "    if max(DB.T[idx]) >= 10000:\n",
        "      datos = DB.T[idx] / 10000\n",
        "    else:\n",
        "      datos = DB.T[idx]\n",
        "\n",
        "    intervalos = range(int(min(datos)), int(max(datos)) + 2)\n",
        "\n",
        "    plt.hist(x = datos, bins = intervalos, color = '#F2AB6D', rwidth = 0.85)\n",
        "    plt.title('Histograma de atributo ' + str(idx + 1) + '.')\n",
        "    plt.xlabel('Características')\n",
        "    plt.ylabel('Frecuencia')\n",
        "    #plot.xticks(intervalos)\n",
        "\n",
        "    plt.show()"
      ],
      "metadata": {
        "colab": {
          "base_uri": "https://localhost:8080/",
          "height": 851
        },
        "id": "LLe2AvLqz4xw",
        "outputId": "73f9c1ff-1b02-485d-9960-b32dca7f84b7"
      },
      "execution_count": null,
      "outputs": [
        {
          "output_type": "display_data",
          "data": {
            "image/png": "[encoded data removed]",
            "text/plain": [
              "<Figure size 432x288 with 1 Axes>"
            ]
          },
          "metadata": {
            "needs_background": "light"
          }
        },
        {
          "output_type": "display_data",
          "data": {
            "image/png": "[encoded data removed]",
            "text/plain": [
              "<Figure size 432x288 with 1 Axes>"
            ]
          },
          "metadata": {
            "needs_background": "light"
          }
        },
        {
          "output_type": "display_data",
          "data": {
            "image/png": "[encoded data removed]",
            "text/plain": [
              "<Figure size 432x288 with 1 Axes>"
            ]
          },
          "metadata": {
            "needs_background": "light"
          }
        }
      ]
    },
    {
      "cell_type": "markdown",
      "source": [
        "NOTA:\n",
        "\n",
        "* En esta ocación solo se toman los valores de los atributos numéricos para la generación de histograma.\n",
        "\n",
        "* Todo parece indicar que por la magnitud de los valores la RAM se satura y no termina de analizar cada atributo. "
      ],
      "metadata": {
        "id": "jMfg5vg9mRTD"
      }
    },
    {
      "cell_type": "markdown",
      "source": [
        "## Relaciones entre atributos."
      ],
      "metadata": {
        "id": "ydW6hZ8X0PjL"
      }
    },
    {
      "cell_type": "markdown",
      "source": [
        "### Covarianza"
      ],
      "metadata": {
        "id": "VX4NKu3P0pIH"
      }
    },
    {
      "cell_type": "code",
      "source": [
        "for idx, element in enumerate(Atributos):\n",
        "  if idx < len(medias) - 2:\n",
        "    if str(type(Atributos[idx]))[8 : -2] != 'str':\n",
        "      MX = medias[idx]\n",
        "      MY = medias[idx + 1]\n",
        "      NoInsta = 0\n",
        "      sumatoria = 0\n",
        "      for idx2, element2 in enumerate(Instancias):\n",
        "        if str(DB.T[idx][idx2]) != 'nan':\n",
        "          sumatoria += (DB.T[idx][idx2] - MX) * (DB.T[idx + 1][idx2] - MY)\n",
        "          NoInsta += 1\n",
        "    #media = (1 / NoInstancias) * sumatoria\n",
        "    Covarianza = (1 / NoInsta) * sumatoria\n",
        "    print('La covarianza entre el atributo', str(idx + 1), 'y el atributo', str(idx + 2), 'es igual a', str(Covarianza) + '.')"
      ],
      "metadata": {
        "colab": {
          "base_uri": "https://localhost:8080/"
        },
        "id": "zyHtAVPO0qDh",
        "outputId": "01e52ab5-7d96-4a4e-ff94-f6f9e34fc3a4"
      },
      "execution_count": 18,
      "outputs": [
        {
          "output_type": "stream",
          "name": "stdout",
          "text": [
            "La covarianza entre el atributo 1 y el atributo 2 es igual a nan.\n",
            "La covarianza entre el atributo 2 y el atributo 3 es igual a nan.\n",
            "La covarianza entre el atributo 3 y el atributo 4 es igual a 7447607.833457576.\n",
            "La covarianza entre el atributo 4 y el atributo 5 es igual a 4724537849602135.0.\n"
          ]
        }
      ]
    },
    {
      "cell_type": "markdown",
      "source": [
        "NOTA:\n",
        "\n",
        "* Es notable que a pesar de podr ser corregido, las variables faltantes en la base de datos generan diversos problemas en los cálculos estadísticos. En este apartado se deja sin corregir el problema de los 'nan', para destacar la relevancia de la imputación posterior."
      ],
      "metadata": {
        "id": "IEwZj6utHavD"
      }
    },
    {
      "cell_type": "markdown",
      "source": [
        "## No. de datos faltantes por atributo"
      ],
      "metadata": {
        "id": "iZRjESTh0uV3"
      }
    },
    {
      "cell_type": "code",
      "source": [
        "NoFaltantes = []\n",
        "for idx, element in enumerate(Atributos):\n",
        "  sumatoria = 0\n",
        "  for idx2, element2 in enumerate(Instancias):\n",
        "    if str(DB.T[idx][idx2]) == 'nan':\n",
        "      sumatoria += 1\n",
        "  NoFaltantes.append(sumatoria)\n",
        "  print('La cantidad de carcaterísticas faltantes en el atributo', str(idx + 1), 'es igual a', str(sumatoria) + '.')"
      ],
      "metadata": {
        "colab": {
          "base_uri": "https://localhost:8080/"
        },
        "id": "ZMYVC2io0-_N",
        "outputId": "24c84145-1a36-4fc0-e30a-8c7177dbb94a"
      },
      "execution_count": 19,
      "outputs": [
        {
          "output_type": "stream",
          "name": "stdout",
          "text": [
            "La cantidad de carcaterísticas faltantes en el atributo 1 es igual a 0.\n",
            "La cantidad de carcaterísticas faltantes en el atributo 2 es igual a 120793.\n",
            "La cantidad de carcaterísticas faltantes en el atributo 3 es igual a 876920.\n",
            "La cantidad de carcaterísticas faltantes en el atributo 4 es igual a 0.\n",
            "La cantidad de carcaterísticas faltantes en el atributo 5 es igual a 0.\n",
            "La cantidad de carcaterísticas faltantes en el atributo 6 es igual a 0.\n",
            "La cantidad de carcaterísticas faltantes en el atributo 7 es igual a 0.\n",
            "La cantidad de carcaterísticas faltantes en el atributo 8 es igual a 0.\n",
            "La cantidad de carcaterísticas faltantes en el atributo 9 es igual a 0.\n"
          ]
        }
      ]
    },
    {
      "cell_type": "markdown",
      "source": [
        "## Núm. de datos atípicos por atributo"
      ],
      "metadata": {
        "id": "7q6HYdIQ1C4t"
      }
    },
    {
      "cell_type": "markdown",
      "source": [
        "Es más sencillo identificar los valores atípicos mediante la representación gráfica de los datos y de forma manual por el usuario, para interpretar mejor cada dato de la base de datos, de acuerdo al contexto."
      ],
      "metadata": {
        "id": "hYIIFB8okvpg"
      }
    },
    {
      "cell_type": "code",
      "source": [
        "import matplotlib.pyplot as plt\n",
        "for idx, element in enumerate(Atributos):\n",
        "  if str(type(Atributos[idx]))[8 : -2] != 'str':\n",
        "    X = DB.T[idx]\n",
        "    Y = []\n",
        "    for idxX, elemento in enumerate(X):\n",
        "      Y.append(idxX + 1)\n",
        "  plt.scatter(X, Y, linewidths = 2, edgecolors = 'blue')\n",
        "  plt.show()"
      ],
      "metadata": {
        "colab": {
          "base_uri": "https://localhost:8080/",
          "height": 1000
        },
        "id": "xANSI-FG1GjQ",
        "outputId": "b6ed967c-c529-4a9e-b196-c779085ee2df"
      },
      "execution_count": 29,
      "outputs": [
        {
          "output_type": "display_data",
          "data": {
            "image/png": "[encoded data removed]",
            "text/plain": [
              "<Figure size 432x288 with 1 Axes>"
            ]
          },
          "metadata": {
            "needs_background": "light"
          }
        },
        {
          "output_type": "display_data",
          "data": {
            "image/png": "[encoded data removed]",
            "text/plain": [
              "<Figure size 432x288 with 1 Axes>"
            ]
          },
          "metadata": {
            "needs_background": "light"
          }
        },
        {
          "output_type": "display_data",
          "data": {
            "image/png": "[encoded data removed]",
            "text/plain": [
              "<Figure size 432x288 with 1 Axes>"
            ]
          },
          "metadata": {
            "needs_background": "light"
          }
        },
        {
          "output_type": "display_data",
          "data": {
            "image/png": "[encoded data removed]",
            "text/plain": [
              "<Figure size 432x288 with 1 Axes>"
            ]
          },
          "metadata": {
            "needs_background": "light"
          }
        },
        {
          "output_type": "display_data",
          "data": {
            "image/png": "[encoded data removed]",
            "text/plain": [
              "<Figure size 432x288 with 1 Axes>"
            ]
          },
          "metadata": {
            "needs_background": "light"
          }
        },
        {
          "output_type": "display_data",
          "data": {
            "image/png": "[encoded data removed]",
            "text/plain": [
              "<Figure size 432x288 with 1 Axes>"
            ]
          },
          "metadata": {
            "needs_background": "light"
          }
        },
        {
          "output_type": "display_data",
          "data": {
            "image/png": "[encoded data removed]",
            "text/plain": [
              "<Figure size 432x288 with 1 Axes>"
            ]
          },
          "metadata": {
            "needs_background": "light"
          }
        },
        {
          "output_type": "display_data",
          "data": {
            "image/png": "[encoded data removed]",
            "text/plain": [
              "<Figure size 432x288 with 1 Axes>"
            ]
          },
          "metadata": {
            "needs_background": "light"
          }
        },
        {
          "output_type": "display_data",
          "data": {
            "image/png": "[encoded data removed]",
            "text/plain": [
              "<Figure size 432x288 with 1 Axes>"
            ]
          },
          "metadata": {
            "needs_background": "light"
          }
        }
      ]
    },
    {
      "cell_type": "markdown",
      "source": [
        "## Balance de la base de datos"
      ],
      "metadata": {
        "id": "fguMgxJv1aQj"
      }
    },
    {
      "cell_type": "code",
      "source": [
        "CantMax = max(NoFaltantes)\n",
        "for idx, element in enumerate(Atributos):\n",
        "  Proporcion = NoFaltantes[idx] * 100 / CantMax\n",
        "  print('El porcentaje de carcaterísticas presentes en el atributo', str(idx + 1), 'es igual a', str(Proporcion) + '.')"
      ],
      "metadata": {
        "colab": {
          "base_uri": "https://localhost:8080/"
        },
        "id": "Z7F05nIG1fhD",
        "outputId": "62a317c4-a1c2-48c1-9cac-582c1a2fb260"
      },
      "execution_count": 55,
      "outputs": [
        {
          "output_type": "stream",
          "name": "stdout",
          "text": [
            "El porcentaje de carcaterísticas presentes en el atributo 1 es igual a 0.0.\n",
            "El porcentaje de carcaterísticas presentes en el atributo 2 es igual a 13.774688683118187.\n",
            "El porcentaje de carcaterísticas presentes en el atributo 3 es igual a 100.0.\n",
            "El porcentaje de carcaterísticas presentes en el atributo 4 es igual a 0.0.\n",
            "El porcentaje de carcaterísticas presentes en el atributo 5 es igual a 0.0.\n",
            "El porcentaje de carcaterísticas presentes en el atributo 6 es igual a 0.0.\n",
            "El porcentaje de carcaterísticas presentes en el atributo 7 es igual a 0.0.\n",
            "El porcentaje de carcaterísticas presentes en el atributo 8 es igual a 0.0.\n",
            "El porcentaje de carcaterísticas presentes en el atributo 9 es igual a 0.0.\n"
          ]
        }
      ]
    },
    {
      "cell_type": "markdown",
      "source": [
        "## Normalización de los datos"
      ],
      "metadata": {
        "id": "NC5Y9cCy1kFB"
      }
    },
    {
      "cell_type": "markdown",
      "source": [
        "No siempre es necesario normalizar, sin embargo se recomienda tratar de mantener los datos entre 0 y 1."
      ],
      "metadata": {
        "id": "P1FXXOycu8dc"
      }
    },
    {
      "cell_type": "code",
      "source": [
        "DBNorm = []\n",
        "MaximoNormalizado = 1\n",
        "MinimoNormalizado = 0\n",
        "RangoNormalizado = MaximoNormalizado - MinimoNormalizado\n",
        "for idx, element in enumerate(Atributos):\n",
        "  CaractNorm = []\n",
        "  if str(type(Atributos[idx]))[8 : -2] != 'str':\n",
        "    RangodeDatos = MaximoDeAtributos[idx] - MinimoDeAtributos[idx]\n",
        "    for idx2, element2 in enumerate(Instancias):\n",
        "      if str(DB.T[idx][idx2]) != 'nan':\n",
        "        D = DB.T[idx][idx2] - MinimoDeAtributos[idx]\n",
        "        DPct = D / RangodeDatos\n",
        "        dNorm = RangoNormalizado * DPct\n",
        "        Normalizado = MinimoNormalizado + dNorm\n",
        "        CaractNorm.append(Normalizado)\n",
        "      else:\n",
        "        CaractNorm.append(DB.T[idx][idx2])\n",
        "  else:\n",
        "    for idx2, element2 in enumerate(Instancias):\n",
        "      CaractNorm.append(DB.T[idx][idx2])\n",
        "  DBNorm.append(CaractNorm)"
      ],
      "metadata": {
        "id": "MFsIGs6x1m8m"
      },
      "execution_count": 38,
      "outputs": []
    },
    {
      "cell_type": "markdown",
      "source": [
        "NOTA: \n",
        "* En los atributos categóricos no se realiza normalización de los ordinales porque es una base de datos mixta (con atrinutos numéricos y categóricos) y existe más de un atributo  categórico, porlo que no se podrían normalizar todos y dejar cada instancia con las características que le corresponde, adecuadamente.\n",
        "* Cómo se maneja la normalización en estos casos donde la base de datos se considera mixta?, y cómo se normaliza cuando existe más de un atributo categórico?."
      ],
      "metadata": {
        "id": "JlUhRLdW1UNp"
      }
    },
    {
      "cell_type": "markdown",
      "source": [
        "## Imputación por vecino más cercano (por sus siglas en inglés NN o  K-NN)"
      ],
      "metadata": {
        "id": "UDP2lB781pyP"
      }
    },
    {
      "cell_type": "code",
      "source": [
        "import numpy as np\n",
        "for idx, element in enumerate(Instancias):\n",
        "  for idx2, element2 in enumerate(Atributos):\n",
        "    if str(DB[idx][idx2]) == 'nan':\n",
        "      \n",
        "      for idx3, element3 in enumerate(Atributos): \n",
        "        if str(DB[idx][idx3]) != 'nan':\n",
        "          break\n",
        "      \n",
        "      d = []\n",
        "      posd = []\n",
        "      for idx4, element4 in enumerate(Instancias):\n",
        "        if idx4 < idx3:\n",
        "          d.append((((idx3 - idx3) ** 2) + (idx - idx4) ** 2) ** (1 / 2))\n",
        "          posd.append(idx4)\n",
        "        elif idx4 == idx3:\n",
        "          d.append(0)\n",
        "          posd.append(idx4)\n",
        "        else:\n",
        "          d.append((((idx3 - idx3) ** 2) + (idx4 - idx) ** 2) ** (1 / 2))\n",
        "          posd.append(idx4)\n",
        "      \n",
        "      #dNN = min(d)\n",
        "      #posNN = np.where(DB.T[idx3] == dNN)\n",
        "      #DB[idx][idx2] = DB[posNN[0][0]][idx2]"
      ],
      "metadata": {
        "id": "t_BTIMcR10Q1"
      },
      "execution_count": null,
      "outputs": []
    },
    {
      "cell_type": "markdown",
      "source": [
        "NOTA: \n",
        "* El algoritmo se ve limitado por la velocidad del internet al realizarse en colab y al manejar valores grandes en las magnitudes la base de datos, y los ciclos for anidados, juntos con las operaciones requeridas, es necesario buscar una alternativa para mejorarlo."
      ],
      "metadata": {
        "id": "TpQjWDxSkc5I"
      }
    },
    {
      "cell_type": "markdown",
      "source": [
        "## Conclusión"
      ],
      "metadata": {
        "id": "RKZcF61pCTPX"
      }
    },
    {
      "cell_type": "markdown",
      "source": [
        "Se realizaron algoritmos que permiten identificar las características de los datos de cualquier base de datos. Generando información que permitirá un análisis de los datos con los que se plantea trabajar y además se generaron al final un par de algoritmos que ayudan a la base de datos a estar completa y en mejor forma para su utilización y sobre todo en algortimos de inteligencia artificial.\n",
        "\n",
        "Se destacó la importancia de estas últimas correciones mencionadas, para eliminar valores faltantes, los cuales generaron complicaciones incluso desde esta etapa del manejo de los datos.\n",
        "\n",
        "Se plantea realizar pruebas diversas sobre los algoritmos creados para robustecerlos con cada error encontrado y cada base de datos desglozada."
      ],
      "metadata": {
        "id": "u66fSi8DCYsw"
      }
    },
    {
      "cell_type": "markdown",
      "source": [
        "## Referencias"
      ],
      "metadata": {
        "id": "r_xdvsmTCWhT"
      }
    },
    {
      "cell_type": "markdown",
      "source": [
        "[1] M. A. Aceves Fernández, Inteligencia Artificial para programadores con prisa. UNIVERSO de LETRAS, 2021.\n",
        "\n",
        "[2] W. Navidi, Estadística para ingenieros. México: Mc Graw Hill, 2006."
      ],
      "metadata": {
        "id": "08Mf-Wz2CZ8S"
      }
    }
  ]
}