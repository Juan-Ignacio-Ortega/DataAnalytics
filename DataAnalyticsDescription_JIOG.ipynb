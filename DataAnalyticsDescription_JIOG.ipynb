{
  "cells": [
    {
      "cell_type": "markdown",
      "metadata": {
        "id": "NAUkofYfYhfM"
      },
      "source": [
        "# Metodología"
      ]
    },
    {
      "cell_type": "markdown",
      "metadata": {
        "id": "7_dZDSy4wBSb"
      },
      "source": [
        "## Importamos la base de datos en google colab."
      ]
    },
    {
      "cell_type": "code",
      "execution_count": null,
      "metadata": {
        "id": "ryXn0TiMf8Pf"
      },
      "outputs": [],
      "source": [
        "import sys\n",
        "from google.colab import drive\n",
        "\n",
        "drive.mount('/content/drive', force_remount = True)\n",
        "sys.path.append('/content/drive/MyDrive/ML_TSIV')"
      ]
    },
    {
      "cell_type": "code",
      "execution_count": null,
      "metadata": {
        "id": "2SSYtFcUuMx7"
      },
      "outputs": [],
      "source": [
        "import pandas as pd\n",
        "DB = pd.read_csv('/content/drive/MyDrive/ML_TSIV/car_data_for_price_estimation.csv')"
      ]
    },
    {
      "cell_type": "markdown",
      "metadata": {
        "id": "8sGrO-a9xGN3"
      },
      "source": [
        "### Mostramos los primeros 5 instancias y los títulos de los atributos."
      ]
    },
    {
      "cell_type": "code",
      "execution_count": null,
      "metadata": {
        "id": "ArG6xcpEuzpz"
      },
      "outputs": [],
      "source": [
        "DB.head()"
      ]
    },
    {
      "cell_type": "markdown",
      "metadata": {
        "id": "V096j_qK5JaU"
      },
      "source": [
        "Convertimos la base de datos a un arreglo para manejarla como matriz."
      ]
    },
    {
      "cell_type": "code",
      "execution_count": null,
      "metadata": {
        "id": "Fo73aPM84f8e"
      },
      "outputs": [],
      "source": [
        "import numpy as np\n",
        "DB = DB.to_numpy()"
      ]
    },
    {
      "cell_type": "markdown",
      "metadata": {
        "id": "-GTLxXuZypPY"
      },
      "source": [
        "## Obtenemos la cantidad de atributos y de instancias por atributo."
      ]
    },
    {
      "cell_type": "code",
      "execution_count": null,
      "metadata": {
        "id": "Cp3weFOov-aT"
      },
      "outputs": [],
      "source": [
        "Atributos = DB[0]\n",
        "NoAtributos = len(Atributos)\n",
        "Instancias = DB.T[0]\n",
        "NoInstancias = len(Instancias)\n",
        "\n",
        "print('La cantidad de atributos es igual a', str(NoAtributos), 'y la cantidad de instancia es igual a', str(NoInstancias) + '.')"
      ]
    },
    {
      "cell_type": "markdown",
      "metadata": {
        "id": "vVbqgLhLzHKt"
      },
      "source": [
        "## Definimos las estadísticas de cada uno de los atributos."
      ]
    },
    {
      "cell_type": "markdown",
      "metadata": {
        "id": "5hX-oq1Sz9fa"
      },
      "source": [
        "### Tipo de atributo."
      ]
    },
    {
      "cell_type": "code",
      "execution_count": null,
      "metadata": {
        "id": "CQR7Nl4w6clg"
      },
      "outputs": [],
      "source": [
        "for idx, element in enumerate(Atributos):\n",
        "  if str(type(Atributos[idx]))[8 : -2] == 'int':\n",
        "    TipoAtributo = 'numérico discreto'\n",
        "  elif str(type(Atributos[idx]))[8 : -2] == 'float':\n",
        "    TipoAtributo = 'numérico continuo'\n",
        "  elif str(type(Atributos[idx]))[8 : -2] == 'str':\n",
        "    TipoAtributo = 'categórico'\n",
        "  else:\n",
        "    TipoAtributo = 'desconocido'\n",
        "  print('Un ejemplo del atributo', str(idx + 1), 'es \"' + str(Atributos[idx]) + '\" y es de tipo:', str(type(Atributos[idx]))[8 : -2] +  ', por lo tanto, es un atributo', TipoAtributo + '.')"
      ]
    },
    {
      "cell_type": "markdown",
      "metadata": {
        "id": "loNcAjPUzaca"
      },
      "source": [
        "### Máximo y mínimo."
      ]
    },
    {
      "cell_type": "code",
      "execution_count": null,
      "metadata": {
        "id": "xk0jy-BdznXQ"
      },
      "outputs": [],
      "source": [
        "MaximoDeAtributos = []\n",
        "MinimoDeAtributos = []\n",
        "for idx, element in enumerate(Atributos):\n",
        "  CaractMax = max(DB.T[idx])\n",
        "  CaractMin = min(DB.T[idx])\n",
        "  MaximoDeAtributos.append(CaractMax)\n",
        "  MinimoDeAtributos.append(CaractMin)\n",
        "  print('Los elementos máximo y mínimo del atributo', str(idx + 1), 'son', str(CaractMax), 'y', str(CaractMin), 'respectivamente.')"
      ]
    },
    {
      "cell_type": "markdown",
      "metadata": {
        "id": "vGcBRXq-FIkO"
      },
      "source": [
        "NOTA: \n",
        "* En los atributos categóricos se define el maximo como la carcaterística que tiene la letra más lejana en el abecedario, es decir, tomando la más cercana a la A y a la más lejana a la Z. Siendo el valor mínimo la letra más cercana en el abecedario. \n",
        "* Mientras que en el caso de fechas toma como mínimo a las fecha más temprana y máximo a la fecha más tardía."
      ]
    },
    {
      "cell_type": "markdown",
      "metadata": {
        "id": "Z0Aoq_eQzn24"
      },
      "source": [
        "### Media, varianza y desviación estandar."
      ]
    },
    {
      "cell_type": "code",
      "execution_count": null,
      "metadata": {
        "id": "uGoc0UMYzv33"
      },
      "outputs": [],
      "source": [
        "medias = []\n",
        "for idx, element in enumerate(Atributos):\n",
        "  sumatoria = 0\n",
        "  sumatoria2 = 0\n",
        "  NoInsta = 0\n",
        "  if str(type(Atributos[idx]))[8 : -2] != 'str':\n",
        "    for idx2, element2 in enumerate(Instancias):\n",
        "      if str(DB.T[idx][idx2]) != 'nan':\n",
        "        sumatoria += DB.T[idx][idx2]\n",
        "        NoInsta += 1\n",
        "    #media = (1 / NoInstancias) * sumatoria\n",
        "    media = (1 / NoInsta) * sumatoria\n",
        "    medias.append(media)\n",
        "    for idx3, element2 in enumerate(Instancias):\n",
        "      if str(DB.T[idx][idx3]) != 'nan':\n",
        "        sumatoria2 += ((DB.T[idx][idx3] - media) ** 2)\n",
        "    #s2 = (1 / NoInstancias - 1) * sumatoria2\n",
        "    s2 = (1 / (NoInsta - 1)) * sumatoria2\n",
        "    s = s2 ** (1 / 2)\n",
        "    print('Los valores de media, varianza y desviación estandar del atributo', str(idx + 1), 'son', str(media) + ',', str(s2), 'y', str(s), 'respectivamente.')"
      ]
    },
    {
      "cell_type": "markdown",
      "metadata": {
        "id": "jfqjtpaFMGUP"
      },
      "source": [
        "NOTA:\n",
        "\n",
        "* En esta ocación solo se toman los valores de media y distribución estándar de los atributos numéricos y se ignoran los valores faltantes.\n",
        "* Es de verdadera relevancia transformar los atributos categóricos a números?, es decir, en el aprendizaje máquina realmente aporta en algo agregar ese tipo de características en el proceso de aprendizaje?"
      ]
    },
    {
      "cell_type": "markdown",
      "metadata": {
        "id": "5vB4Oa8S0nGC"
      },
      "source": [
        "### Cuartiles"
      ]
    },
    {
      "cell_type": "code",
      "execution_count": null,
      "metadata": {
        "id": "9K30Pzdf0oAq"
      },
      "outputs": [],
      "source": [
        "for idx, element in enumerate(Atributos):\n",
        "  #sumatoria = 0\n",
        "  #NoInsta = 0\n",
        "  if str(type(Atributos[idx]))[8 : -2] != 'str':\n",
        "    atrib = DB.T[idx]\n",
        "    atrib.sort()\n",
        "\n",
        "    NoCuartil1 = 0.25 * (NoInstancias + 1)\n",
        "    if str(type(NoCuartil1))[8 : -2] != 'int':\n",
        "      pos1 = round(NoCuartil1)\n",
        "      if pos1 < NoCuartil1:\n",
        "        pos2 = pos1 + 1\n",
        "      else:\n",
        "        pos2 = pos1 - 1\n",
        "      NoCuartil1 = round((pos1 + pos2) / 2)\n",
        "    Cuartil1 = atrib[NoCuartil1 + 1]\n",
        "    incremento = 1\n",
        "    while True:\n",
        "      if str(Cuartil1) == 'nan':\n",
        "          Cuartil1 = atrib[NoCuartil1]\n",
        "          NoCuartil1 -= 1\n",
        "      else:\n",
        "        break\n",
        "\n",
        "    NoCuartil2 = 0.5 * (NoInstancias + 1)\n",
        "    if str(type(NoCuartil2))[8 : -2] != 'int':\n",
        "      pos1 = round(NoCuartil2)\n",
        "      if pos1 < NoCuartil2:\n",
        "        pos2 = pos1 + 1\n",
        "      else:\n",
        "        pos2 = pos1 - 1\n",
        "      NoCuartil2 = round((pos1 + pos2) / 2)\n",
        "    Cuartil2 = atrib[NoCuartil2 + 1]\n",
        "    while True:\n",
        "      if str(Cuartil2) == 'nan':\n",
        "          Cuartil2 = atrib[NoCuartil2]\n",
        "          NoCuartil2 -= 1\n",
        "      else:\n",
        "        break\n",
        "\n",
        "    NoCuartil3 = 0.7 * (NoInstancias + 1)\n",
        "    if str(type(NoCuartil3))[8 : -2] != 'int':\n",
        "      pos1 = round(NoCuartil3)\n",
        "      if pos1 < NoCuartil3:\n",
        "        pos2 = pos1 + 1\n",
        "      else:\n",
        "        pos2 = pos1 - 1\n",
        "      NoCuartil3 = round((pos1 + pos2) / 2)\n",
        "    Cuartil3 = atrib[NoCuartil3 + 1]\n",
        "    while True:\n",
        "      if str(Cuartil3) == 'nan':\n",
        "          Cuartil3 = atrib[NoCuartil3]\n",
        "          NoCuartil3 -= 1\n",
        "      else:\n",
        "        break\n",
        "\n",
        "    print('Los valores del primer, segundo y tercer cuartil del atributo', str(idx + 1), 'son', str(Cuartil1) + ',', str(Cuartil2), 'y', str(Cuartil3), 'respectivamente.')"
      ]
    },
    {
      "cell_type": "markdown",
      "metadata": {
        "id": "dDvQ8wfNbepF"
      },
      "source": [
        "NOTA:\n",
        "\n",
        "* En esta ocación solo se toman los valores de los atributos numéricos para el cálculo de cuartiles."
      ]
    },
    {
      "cell_type": "markdown",
      "metadata": {
        "id": "VXdaejYQzxN9"
      },
      "source": [
        "### Tipo de distribución"
      ]
    },
    {
      "cell_type": "markdown",
      "metadata": {
        "id": "9zfQsNRPntsW"
      },
      "source": [
        "Para definir el tipo, es preferible obtener la gráfica del atributo que permita determinar de manera visual y manual si el atributo presenta una distribución Uniforme, Normal, Unimodal sesgada a la izquierda, Unimodal sesgada a la derecha, multimodal o exponencial."
      ]
    },
    {
      "cell_type": "code",
      "execution_count": null,
      "metadata": {
        "id": "LLe2AvLqz4xw"
      },
      "outputs": [],
      "source": [
        "import matplotlib.pyplot as plt\n",
        "\n",
        "for idx, element in enumerate(Atributos):\n",
        "  if str(type(Atributos[idx]))[8 : -2] != 'str':\n",
        "    if max(DB.T[idx]) >= 10000:\n",
        "      datos = DB.T[idx] / 10000\n",
        "    else:\n",
        "      datos = DB.T[idx]\n",
        "\n",
        "    intervalos = range(int(min(datos)), int(max(datos)) + 2)\n",
        "\n",
        "    plt.hist(x = datos, bins = intervalos, color = '#F2AB6D', rwidth = 0.85)\n",
        "    plt.title('Histograma de atributo ' + str(idx + 1) + '.')\n",
        "    plt.xlabel('Características')\n",
        "    plt.ylabel('Frecuencia')\n",
        "    #plot.xticks(intervalos)\n",
        "\n",
        "    plt.show()"
      ]
    },
    {
      "cell_type": "markdown",
      "metadata": {
        "id": "jMfg5vg9mRTD"
      },
      "source": [
        "NOTA:\n",
        "\n",
        "* En esta ocación solo se toman los valores de los atributos numéricos para la generación de histograma.\n",
        "\n",
        "* Todo parece indicar que por la magnitud de los valores la RAM se satura y no termina de analizar cada atributo. "
      ]
    },
    {
      "cell_type": "markdown",
      "metadata": {
        "id": "ydW6hZ8X0PjL"
      },
      "source": [
        "## Relaciones entre atributos."
      ]
    },
    {
      "cell_type": "markdown",
      "metadata": {
        "id": "VX4NKu3P0pIH"
      },
      "source": [
        "### Covarianza"
      ]
    },
    {
      "cell_type": "code",
      "execution_count": null,
      "metadata": {
        "id": "zyHtAVPO0qDh"
      },
      "outputs": [],
      "source": [
        "for idx, element in enumerate(Atributos):\n",
        "  if idx < len(medias) - 2:\n",
        "    if str(type(Atributos[idx]))[8 : -2] != 'str':\n",
        "      MX = medias[idx]\n",
        "      MY = medias[idx + 1]\n",
        "      NoInsta = 0\n",
        "      sumatoria = 0\n",
        "      for idx2, element2 in enumerate(Instancias):\n",
        "        if str(DB.T[idx][idx2]) != 'nan':\n",
        "          sumatoria += (DB.T[idx][idx2] - MX) * (DB.T[idx + 1][idx2] - MY)\n",
        "          NoInsta += 1\n",
        "    #media = (1 / NoInstancias) * sumatoria\n",
        "    Covarianza = (1 / NoInsta) * sumatoria\n",
        "    print('La covarianza entre el atributo', str(idx + 1), 'y el atributo', str(idx + 2), 'es igual a', str(Covarianza) + '.')"
      ]
    },
    {
      "cell_type": "markdown",
      "metadata": {
        "id": "IEwZj6utHavD"
      },
      "source": [
        "NOTA:\n",
        "\n",
        "* Es notable que a pesar de podr ser corregido, las variables faltantes en la base de datos generan diversos problemas en los cálculos estadísticos. En este apartado se deja sin corregir el problema de los 'nan', para destacar la relevancia de la imputación posterior."
      ]
    },
    {
      "cell_type": "markdown",
      "metadata": {
        "id": "iZRjESTh0uV3"
      },
      "source": [
        "## No. de datos faltantes por atributo"
      ]
    },
    {
      "cell_type": "code",
      "execution_count": null,
      "metadata": {
        "id": "ZMYVC2io0-_N"
      },
      "outputs": [],
      "source": [
        "NoFaltantes = []\n",
        "for idx, element in enumerate(Atributos):\n",
        "  sumatoria = 0\n",
        "  for idx2, element2 in enumerate(Instancias):\n",
        "    if str(DB.T[idx][idx2]) == 'nan':\n",
        "      sumatoria += 1\n",
        "  NoFaltantes.append(sumatoria)\n",
        "  print('La cantidad de carcaterísticas faltantes en el atributo', str(idx + 1), 'es igual a', str(sumatoria) + '.')"
      ]
    },
    {
      "cell_type": "markdown",
      "metadata": {
        "id": "7q6HYdIQ1C4t"
      },
      "source": [
        "## Núm. de datos atípicos por atributo"
      ]
    },
    {
      "cell_type": "markdown",
      "metadata": {
        "id": "hYIIFB8okvpg"
      },
      "source": [
        "Es más sencillo identificar los valores atípicos mediante la representación gráfica de los datos y de forma manual por el usuario, para interpretar mejor cada dato de la base de datos, de acuerdo al contexto."
      ]
    },
    {
      "cell_type": "code",
      "execution_count": null,
      "metadata": {
        "id": "xANSI-FG1GjQ"
      },
      "outputs": [],
      "source": [
        "import matplotlib.pyplot as plt\n",
        "for idx, element in enumerate(Atributos):\n",
        "  if str(type(Atributos[idx]))[8 : -2] != 'str':\n",
        "    X = DB.T[idx]\n",
        "    Y = []\n",
        "    for idxX, elemento in enumerate(X):\n",
        "      Y.append(idxX + 1)\n",
        "  plt.scatter(X, Y, linewidths = 2, edgecolors = 'blue')\n",
        "  plt.show()"
      ]
    },
    {
      "cell_type": "markdown",
      "metadata": {
        "id": "fguMgxJv1aQj"
      },
      "source": [
        "## Balance de la base de datos"
      ]
    },
    {
      "cell_type": "code",
      "execution_count": null,
      "metadata": {
        "id": "Z7F05nIG1fhD"
      },
      "outputs": [],
      "source": [
        "CantMax = max(NoFaltantes)\n",
        "for idx, element in enumerate(Atributos):\n",
        "  Proporcion = NoFaltantes[idx] * 100 / CantMax\n",
        "  print('El porcentaje de carcaterísticas presentes en el atributo', str(idx + 1), 'es igual a', str(Proporcion) + '.')"
      ]
    },
    {
      "cell_type": "markdown",
      "metadata": {
        "id": "NC5Y9cCy1kFB"
      },
      "source": [
        "## Normalización de los datos"
      ]
    },
    {
      "cell_type": "markdown",
      "metadata": {
        "id": "P1FXXOycu8dc"
      },
      "source": [
        "No siempre es necesario normalizar, sin embargo se recomienda tratar de mantener los datos entre 0 y 1."
      ]
    },
    {
      "cell_type": "code",
      "execution_count": null,
      "metadata": {
        "id": "MFsIGs6x1m8m"
      },
      "outputs": [],
      "source": [
        "DBNorm = []\n",
        "MaximoNormalizado = 1\n",
        "MinimoNormalizado = 0\n",
        "RangoNormalizado = MaximoNormalizado - MinimoNormalizado\n",
        "for idx, element in enumerate(Atributos):\n",
        "  CaractNorm = []\n",
        "  if str(type(Atributos[idx]))[8 : -2] != 'str':\n",
        "    RangodeDatos = MaximoDeAtributos[idx] - MinimoDeAtributos[idx]\n",
        "    for idx2, element2 in enumerate(Instancias):\n",
        "      if str(DB.T[idx][idx2]) != 'nan':\n",
        "        D = DB.T[idx][idx2] - MinimoDeAtributos[idx]\n",
        "        DPct = D / RangodeDatos\n",
        "        dNorm = RangoNormalizado * DPct\n",
        "        Normalizado = MinimoNormalizado + dNorm\n",
        "        CaractNorm.append(Normalizado)\n",
        "      else:\n",
        "        CaractNorm.append(DB.T[idx][idx2])\n",
        "  else:\n",
        "    for idx2, element2 in enumerate(Instancias):\n",
        "      CaractNorm.append(DB.T[idx][idx2])\n",
        "  DBNorm.append(CaractNorm)"
      ]
    },
    {
      "cell_type": "markdown",
      "metadata": {
        "id": "JlUhRLdW1UNp"
      },
      "source": [
        "NOTA: \n",
        "* En los atributos categóricos no se realiza normalización de los ordinales porque es una base de datos mixta (con atrinutos numéricos y categóricos) y existe más de un atributo  categórico, porlo que no se podrían normalizar todos y dejar cada instancia con las características que le corresponde, adecuadamente.\n",
        "* Cómo se maneja la normalización en estos casos donde la base de datos se considera mixta?, y cómo se normaliza cuando existe más de un atributo categórico?."
      ]
    },
    {
      "cell_type": "markdown",
      "metadata": {
        "id": "UDP2lB781pyP"
      },
      "source": [
        "## Imputación por vecino más cercano (por sus siglas en inglés NN o  K-NN)"
      ]
    },
    {
      "cell_type": "code",
      "execution_count": null,
      "metadata": {
        "id": "t_BTIMcR10Q1"
      },
      "outputs": [],
      "source": [
        "import numpy as np\n",
        "for idx, element in enumerate(Instancias):\n",
        "  for idx2, element2 in enumerate(Atributos):\n",
        "    if str(DB[idx][idx2]) == 'nan':\n",
        "      \n",
        "      for idx3, element3 in enumerate(Atributos): \n",
        "        if str(DB[idx][idx3]) != 'nan':\n",
        "          break\n",
        "      \n",
        "      d = []\n",
        "      posd = []\n",
        "      for idx4, element4 in enumerate(Instancias):\n",
        "        if idx4 < idx3:\n",
        "          d.append((((idx3 - idx3) ** 2) + (idx - idx4) ** 2) ** (1 / 2))\n",
        "          posd.append(idx4)\n",
        "        elif idx4 == idx3:\n",
        "          d.append(0)\n",
        "          posd.append(idx4)\n",
        "        else:\n",
        "          d.append((((idx3 - idx3) ** 2) + (idx4 - idx) ** 2) ** (1 / 2))\n",
        "          posd.append(idx4)\n",
        "      \n",
        "      #dNN = min(d)\n",
        "      #posNN = np.where(DB.T[idx3] == dNN)\n",
        "      #DB[idx][idx2] = DB[posNN[0][0]][idx2]"
      ]
    },
    {
      "cell_type": "markdown",
      "metadata": {
        "id": "TpQjWDxSkc5I"
      },
      "source": [
        "NOTA: \n",
        "* El algoritmo se ve limitado por la velocidad del internet al realizarse en colab y al manejar valores grandes en las magnitudes la base de datos, y los ciclos for anidados, juntos con las operaciones requeridas, es necesario buscar una alternativa para mejorarlo."
      ]
    }
  ],
  "metadata": {
    "colab": {
      "name": "DataAnalyticsCode_JIOG.ipynb",
      "provenance": []
    },
    "kernelspec": {
      "display_name": "Python 3",
      "language": "python",
      "name": "python3"
    },
    "language_info": {
      "codemirror_mode": {
        "name": "ipython",
        "version": 3
      },
      "file_extension": ".py",
      "mimetype": "text/x-python",
      "name": "python",
      "nbconvert_exporter": "python",
      "pygments_lexer": "ipython3",
      "version": "3.8.5"
    }
  },
  "nbformat": 4,
  "nbformat_minor": 0
}